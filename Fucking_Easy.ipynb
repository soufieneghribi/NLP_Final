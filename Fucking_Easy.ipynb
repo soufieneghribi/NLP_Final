{
 "cells": [
  {
   "cell_type": "code",
   "execution_count": 18,
   "metadata": {},
   "outputs": [],
   "source": [
    "import torch\n",
    "import os\n",
    "import re\n",
    "import pandas as pd\n",
    "import numpy as np\n",
    "from transformers import BertTokenizer\n",
    "from torch.utils.data import Dataset\n",
    "from sklearn.model_selection import KFold\n",
    "from transformers import BertForMaskedLM\n",
    "from torch.utils.data import DataLoader\n",
    "from torch.nn.utils.rnn import pad_sequence\n",
    "from transformers import BertForSequenceClassification\n",
    "from sklearn.metrics import confusion_matrix\n",
    "import matplotlib.pyplot as plt\n",
    "import seaborn as sns\n",
    "import zhon.hanzi\n",
    "\n",
    "## evaluation ##\n",
    "from sklearn.metrics import precision_score \n",
    "from sklearn.metrics import recall_score\n",
    "from sklearn.metrics import f1_score\n",
    "from sklearn.metrics import accuracy_score"
   ]
  },
  {
   "cell_type": "code",
   "execution_count": 14,
   "metadata": {},
   "outputs": [
    {
     "name": "stdout",
     "output_type": "stream",
     "text": [
      "1.2.0\n",
      "True\n",
      "10.0.130\n",
      "True\n",
      "Available devices  2\n",
      "Current cuda device  0\n"
     ]
    }
   ],
   "source": [
    "print(torch.__version__)\n",
    "print(torch.cuda.is_available())\n",
    "print(torch.version.cuda)\n",
    "print(torch.backends.cudnn.enabled)\n",
    "print ('Available devices ', torch.cuda.device_count())\n",
    "print ('Current cuda device ', torch.cuda.current_device())\n",
    "os.environ[\"CUDA_VISIBLE_DEVICES\"]= \"1\""
   ]
  },
  {
   "cell_type": "code",
   "execution_count": 3,
   "metadata": {},
   "outputs": [],
   "source": [
    "class SentimentDataset(Dataset):\n",
    "    def __init__(self, mode, tokenizer):\n",
    "        assert mode in [\"train\", \"test\"]\n",
    "        self.mode = mode\n",
    "        if mode == \"train\":\n",
    "            self.df = train_df\n",
    "        elif mode == \"test\":\n",
    "            self.df = test_df\n",
    "        self.len = len(self.df)\n",
    "        self.label_map = {'neutral': 0, 'positive': 1, 'negative': 2}\n",
    "        self.tokenizer = tokenizer\n",
    "    \n",
    "    def __getitem__(self, idx):\n",
    "        if self.mode == \"test\":\n",
    "            text = self.df[\"Comment\"].values[idx]\n",
    "            label_tensor = None\n",
    "        else:\n",
    "            text = self.df[\"Comment\"].values[idx]\n",
    "            label = self.df[\"Label\"].values[idx]\n",
    "            label_id = self.label_map[label]\n",
    "            label_tensor = torch.tensor(label_id)\n",
    "            \n",
    "        word_pieces = [\"[CLS]\"]\n",
    "        tokens = self.tokenizer.tokenize(text)\n",
    "        word_pieces += tokens\n",
    "        len_of_text = len(word_pieces)\n",
    "        \n",
    "        ids = self.tokenizer.convert_tokens_to_ids(word_pieces)\n",
    "        tokens_tensor = torch.tensor(ids)\n",
    "        \n",
    "        segments_tensor = torch.tensor([0] * len_of_text, dtype=torch.long)\n",
    "        return (tokens_tensor, segments_tensor, label_tensor)\n",
    "    \n",
    "    def __len__(self):\n",
    "        return self.len"
   ]
  },
  {
   "cell_type": "code",
   "execution_count": 4,
   "metadata": {},
   "outputs": [],
   "source": [
    "def evaluation(answer, predict):\n",
    "    print(\"accuracy: \", round(accuracy_score(answer, predict), 4))\n",
    "    print(\"precision_score: \", round(precision_score(answer, predict, average=\"macro\"), 4))\n",
    "    print(\"recall_score: \", round(recall_score(answer, predict, average=\"macro\"), 4))\n",
    "    print(\"f1_score: \", round(f1_score(answer, predict, average=\"macro\"), 4))\n",
    "    \n",
    "    matrix = confusion_matrix(answer, predict)\n",
    "    \n",
    "    plt.figure(figsize=(4, 4))\n",
    "    sns.heatmap(matrix, annot = True, fmt=\".3f\", linewidths=.5, square = True, cmap = 'Blues_r');\n",
    "    plt.ylabel('Actual label')\n",
    "    plt.xlabel('Predicted label')\n",
    "    all_sample_title = 'F1 Score: {0}'.format(round(f1_score(answer, predict, average=\"macro\"), 4))\n",
    "    plt.title(all_sample_title, size = 15)\n",
    "    plt.show"
   ]
  },
  {
   "cell_type": "code",
   "execution_count": 5,
   "metadata": {},
   "outputs": [],
   "source": [
    "def get_predictions(model, dataloader, compute_acc=False):\n",
    "    predictions = None\n",
    "    correct = 0\n",
    "    total = 0\n",
    "    with torch.no_grad():\n",
    "        for data in dataloader:\n",
    "            if next(model.parameters()).is_cuda:\n",
    "                data = [t.to(\"cuda:1\") for t in data if t is not None]\n",
    "            tokens_tensors, segments_tensors, masks_tensors = data[:3]\n",
    "            outputs = model(input_ids=tokens_tensors, \n",
    "                            token_type_ids=segments_tensors, \n",
    "                            attention_mask=masks_tensors)\n",
    "            logits = outputs[0]\n",
    "            _, pred = torch.max(logits.data, 1)\n",
    "            \n",
    "            if compute_acc:\n",
    "                labels = data[3]\n",
    "                total += labels.size(0)\n",
    "                correct += (pred == labels).sum().item()\n",
    "                \n",
    "            if predictions is None:\n",
    "                predictions = pred\n",
    "            else:\n",
    "                predictions = torch.cat((predictions, pred))\n",
    "                \n",
    "    if compute_acc:\n",
    "        acc = correct / total\n",
    "        return predictions, acc, logits\n",
    "    \n",
    "    return predictions, logits"
   ]
  },
  {
   "cell_type": "code",
   "execution_count": 6,
   "metadata": {},
   "outputs": [],
   "source": [
    "def create_mini_batch(samples):\n",
    "    tokens_tensors = [s[0] for s in samples]\n",
    "    segments_tensors = [s[1] for s in samples]\n",
    "    \n",
    "    if samples[0][2] is not None:\n",
    "        label_ids = torch.stack([s[2] for s in samples])\n",
    "    else:\n",
    "        label_ids = None\n",
    "    \n",
    "    tokens_tensors = pad_sequence(tokens_tensors, batch_first=True)\n",
    "    segments_tensors = pad_sequence(segments_tensors, batch_first=True)\n",
    "    \n",
    "    masks_tensors = torch.zeros(tokens_tensors.shape, dtype=torch.long)\n",
    "    masks_tensors = masks_tensors.masked_fill(tokens_tensors != 0, 1)\n",
    "    \n",
    "    return tokens_tensors, segments_tensors, masks_tensors, label_ids"
   ]
  },
  {
   "cell_type": "code",
   "execution_count": 15,
   "metadata": {},
   "outputs": [],
   "source": [
    "def get_learnable_params(module):\n",
    "    return [p for p in module.parameters() if p.requires_grad]"
   ]
  },
  {
   "cell_type": "code",
   "execution_count": 16,
   "metadata": {},
   "outputs": [
    {
     "data": {
      "text/html": [
       "<div>\n",
       "<style scoped>\n",
       "    .dataframe tbody tr th:only-of-type {\n",
       "        vertical-align: middle;\n",
       "    }\n",
       "\n",
       "    .dataframe tbody tr th {\n",
       "        vertical-align: top;\n",
       "    }\n",
       "\n",
       "    .dataframe thead th {\n",
       "        text-align: right;\n",
       "    }\n",
       "</style>\n",
       "<table border=\"1\" class=\"dataframe\">\n",
       "  <thead>\n",
       "    <tr style=\"text-align: right;\">\n",
       "      <th></th>\n",
       "      <th>Comment</th>\n",
       "      <th>Label</th>\n",
       "    </tr>\n",
       "  </thead>\n",
       "  <tbody>\n",
       "    <tr>\n",
       "      <th>0</th>\n",
       "      <td>千呼万唤始出来，</td>\n",
       "      <td>neutral</td>\n",
       "    </tr>\n",
       "    <tr>\n",
       "      <th>1</th>\n",
       "      <td>尼康的APSC小相机终于发布了，</td>\n",
       "      <td>neutral</td>\n",
       "    </tr>\n",
       "    <tr>\n",
       "      <th>2</th>\n",
       "      <td>COOLPIX A. 你怎么看呢？</td>\n",
       "      <td>neutral</td>\n",
       "    </tr>\n",
       "    <tr>\n",
       "      <th>3</th>\n",
       "      <td>我看，尼康是挤牙膏挤惯了啊，</td>\n",
       "      <td>neutral</td>\n",
       "    </tr>\n",
       "    <tr>\n",
       "      <th>4</th>\n",
       "      <td>1，外观既没有V1时尚，</td>\n",
       "      <td>negative</td>\n",
       "    </tr>\n",
       "  </tbody>\n",
       "</table>\n",
       "</div>"
      ],
      "text/plain": [
       "             Comment     Label\n",
       "0           千呼万唤始出来，   neutral\n",
       "1   尼康的APSC小相机终于发布了，   neutral\n",
       "2  COOLPIX A. 你怎么看呢？   neutral\n",
       "3     我看，尼康是挤牙膏挤惯了啊，   neutral\n",
       "4       1，外观既没有V1时尚，  negative"
      ]
     },
     "execution_count": 16,
     "metadata": {},
     "output_type": "execute_result"
    }
   ],
   "source": [
    "raw_data = pd.read_csv(\"data_2.csv\", names=[\"Comment\", \"Label\"], header=None)\n",
    "raw_data.head()"
   ]
  },
  {
   "cell_type": "code",
   "execution_count": 19,
   "metadata": {},
   "outputs": [],
   "source": [
    "h_regex = re.compile('[%s]' % zhon.hanzi.punctuation)\n",
    "remove_punctuation = []\n",
    "for comment in list(raw_data[\"Comment\"].values):\n",
    "    remove_punctuation.append(h_regex.sub('', comment))"
   ]
  },
  {
   "cell_type": "code",
   "execution_count": 20,
   "metadata": {},
   "outputs": [],
   "source": [
    "raw_data[\"Comment\"] = remove_punctuation"
   ]
  },
  {
   "cell_type": "code",
   "execution_count": 22,
   "metadata": {},
   "outputs": [],
   "source": [
    "PRETRAINED_MODEL_NAME = \"bert-base-chinese\"\n",
    "tokenizer = BertTokenizer.from_pretrained(PRETRAINED_MODEL_NAME)"
   ]
  },
  {
   "cell_type": "code",
   "execution_count": 23,
   "metadata": {},
   "outputs": [],
   "source": [
    "NUM_LABELS = 3\n",
    "num_of_kfold = 5\n",
    "BATCH_SIZE = 64\n",
    "EPOCHS = 6"
   ]
  },
  {
   "cell_type": "code",
   "execution_count": 24,
   "metadata": {},
   "outputs": [
    {
     "name": "stdout",
     "output_type": "stream",
     "text": [
      "===============================================================\n",
      "[epoch 1] loss: 42.840, acc: 0.854\n",
      "[epoch 2] loss: 24.122, acc: 0.941\n",
      "[epoch 3] loss: 12.283, acc: 0.977\n",
      "[epoch 4] loss: 5.053, acc: 0.986\n",
      "[epoch 5] loss: 2.350, acc: 0.996\n",
      "[epoch 6] loss: 1.883, acc: 0.970\n",
      "accuracy:  0.8789\n",
      "precision_score:  0.8628\n",
      "recall_score:  0.6266\n",
      "f1_score:  0.6979\n",
      "===============================================================\n",
      "[epoch 1] loss: 42.005, acc: 0.862\n",
      "[epoch 2] loss: 25.370, acc: 0.937\n",
      "[epoch 3] loss: 13.668, acc: 0.980\n",
      "[epoch 4] loss: 6.037, acc: 0.992\n",
      "[epoch 5] loss: 3.967, acc: 0.994\n",
      "[epoch 6] loss: 2.288, acc: 0.994\n",
      "accuracy:  0.8469\n",
      "precision_score:  0.7436\n",
      "recall_score:  0.713\n",
      "f1_score:  0.7245\n",
      "===============================================================\n",
      "[epoch 1] loss: 44.126, acc: 0.856\n",
      "[epoch 2] loss: 27.492, acc: 0.926\n",
      "[epoch 3] loss: 17.179, acc: 0.955\n",
      "[epoch 4] loss: 9.356, acc: 0.984\n",
      "[epoch 5] loss: 4.893, acc: 0.989\n",
      "[epoch 6] loss: 3.259, acc: 0.993\n",
      "accuracy:  0.8737\n",
      "precision_score:  0.7808\n",
      "recall_score:  0.7134\n",
      "f1_score:  0.7404\n",
      "===============================================================\n",
      "[epoch 1] loss: 44.726, acc: 0.823\n",
      "[epoch 2] loss: 26.169, acc: 0.915\n",
      "[epoch 3] loss: 14.810, acc: 0.960\n",
      "[epoch 4] loss: 9.613, acc: 0.977\n",
      "[epoch 5] loss: 5.668, acc: 0.990\n",
      "[epoch 6] loss: 2.730, acc: 0.994\n",
      "accuracy:  0.8745\n",
      "precision_score:  0.7798\n",
      "recall_score:  0.7358\n",
      "f1_score:  0.7537\n",
      "===============================================================\n",
      "[epoch 1] loss: 46.406, acc: 0.839\n",
      "[epoch 2] loss: 26.516, acc: 0.913\n",
      "[epoch 3] loss: 13.026, acc: 0.971\n",
      "[epoch 4] loss: 5.579, acc: 0.973\n",
      "[epoch 5] loss: 3.940, acc: 0.991\n",
      "[epoch 6] loss: 3.036, acc: 0.991\n",
      "accuracy:  0.8823\n",
      "precision_score:  0.7889\n",
      "recall_score:  0.6909\n",
      "f1_score:  0.7314\n"
     ]
    },
    {
     "data": {
      "image/png": "[encoded data removed]",
      "text/plain": [
       "<Figure size 288x288 with 2 Axes>"
      ]
     },
     "metadata": {
      "needs_background": "light"
     },
     "output_type": "display_data"
    },
    {
     "data": {
      "image/png": "[encoded data removed]",
      "text/plain": [
       "<Figure size 288x288 with 2 Axes>"
      ]
     },
     "metadata": {
      "needs_background": "light"
     },
     "output_type": "display_data"
    },
    {
     "data": {
      "image/png": "[encoded data removed]",
      "text/plain": [
       "<Figure size 288x288 with 2 Axes>"
      ]
     },
     "metadata": {
      "needs_background": "light"
     },
     "output_type": "display_data"
    },
    {
     "data": {
      "image/png": "[encoded data removed]",
      "text/plain": [
       "<Figure size 288x288 with 2 Axes>"
      ]
     },
     "metadata": {
      "needs_background": "light"
     },
     "output_type": "display_data"
    },
    {
     "data": {
      "image/png": "[encoded data removed]",
      "text/plain": [
       "<Figure size 288x288 with 2 Axes>"
      ]
     },
     "metadata": {
      "needs_background": "light"
     },
     "output_type": "display_data"
    }
   ],
   "source": [
    "kf = KFold(n_splits = num_of_kfold, shuffle = True, random_state = 2)\n",
    "fold_num = 0\n",
    "for train_index, test_index in kf.split(raw_data):\n",
    "    # if fold_num > 0:\n",
    "    #     break\n",
    "    print(\"===============================================================\")\n",
    "    train_df = raw_data.iloc[train_index, :].reset_index(drop=True)\n",
    "    test_df = raw_data.iloc[test_index, :].reset_index(drop=True)\n",
    "    trainset = SentimentDataset(\"train\", tokenizer=tokenizer)\n",
    "    trainloader = DataLoader(trainset, batch_size=BATCH_SIZE, collate_fn=create_mini_batch)\n",
    "    model = BertForSequenceClassification.from_pretrained(PRETRAINED_MODEL_NAME, num_labels=NUM_LABELS)\n",
    "    model = model.to(\"cuda:1\")\n",
    "    optimizer = torch.optim.Adam(model.parameters(), lr=0.00001)\n",
    "    \n",
    "    for epoch in range(EPOCHS):\n",
    "        running_loss = 0.0\n",
    "        for data in trainloader:\n",
    "            tokens_tensors, segments_tensors, \\\n",
    "            masks_tensors, labels = [t.to(\"cuda:1\") for t in data]\n",
    "            optimizer.zero_grad()\n",
    "            outputs = model(input_ids=tokens_tensors, \n",
    "                            token_type_ids=segments_tensors, \n",
    "                            attention_mask=masks_tensors, \n",
    "                            labels=labels)\n",
    "            loss = outputs[0]\n",
    "            loss.backward()\n",
    "            optimizer.step()\n",
    "            running_loss += loss.item()\n",
    "        _, acc, logit_train = get_predictions(model, trainloader, compute_acc=True)\n",
    "        print('[epoch %d] loss: %.3f, acc: %.3f' % (epoch + 1, running_loss, acc))\n",
    "    \n",
    "    testset = SentimentDataset(\"test\", tokenizer=tokenizer)\n",
    "    testloader = DataLoader(testset, batch_size=256, collate_fn=create_mini_batch)\n",
    "    predictions, logit_test = get_predictions(model, testloader)\n",
    "    \n",
    "    result = []\n",
    "    for pred in predictions:\n",
    "        if pred == 0:\n",
    "            result.append(\"neutral\")\n",
    "        elif pred == 1:\n",
    "            result.append(\"positive\")\n",
    "        elif pred == 2:\n",
    "            result.append(\"negative\")\n",
    "    test_df[\"Result\"] = result\n",
    "    evaluation(test_df[\"Label\"], test_df[\"Result\"])\n",
    "    fold_num += 1"
   ]
  },
  {
   "cell_type": "code",
   "execution_count": null,
   "metadata": {},
   "outputs": [],
   "source": []
  }
 ],
 "metadata": {
  "kernelspec": {
   "display_name": "Python 3",
   "language": "python",
   "name": "python3"
  },
  "language_info": {
   "codemirror_mode": {
    "name": "ipython",
    "version": 3
   },
   "file_extension": ".py",
   "mimetype": "text/x-python",
   "name": "python",
   "nbconvert_exporter": "python",
   "pygments_lexer": "ipython3",
   "version": "3.5.2"
  }
 },
 "nbformat": 4,
 "nbformat_minor": 4
}
